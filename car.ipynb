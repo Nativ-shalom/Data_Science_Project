{
 "cells": [
  {
   "cell_type": "code",
   "execution_count": 4,
   "metadata": {
    "id": "UOvdPSAMHjeG"
   },
   "outputs": [],
   "source": [
    "import os\n",
    "import re\n",
    "import csv\n",
    "import time\n",
    "import requests\n",
    "import numpy as np\n",
    "import seaborn as sns\n",
    "\n",
    "from bs4 import BeautifulSoup as bs\n",
    "\n",
    "import warnings\n",
    "warnings.filterwarnings('ignore')"
   ]
  },
  {
   "cell_type": "markdown",
   "metadata": {
    "id": "EMm1BbSPHjeL"
   },
   "source": [
    "# Crowling Data"
   ]
  },
  {
   "cell_type": "code",
   "execution_count": 5,
   "metadata": {
    "id": "nEqSH7egHjeP"
   },
   "outputs": [],
   "source": [
    "def getUrl(url):\n",
    "    headers = ({'User-Agent': 'Mozilla/5.0 (Windows NT 10.0; Win64; x64) AppleWebKit/537.36 (KHTML, like Gecko) Chrome/111.0.0.0 Safari/537.36'})\n",
    "    r = requests.get(url, headers = headers)\n",
    "    while r.status_code != 200:\n",
    "      time.sleep(15)\n",
    "      r = requests.get(url, headers = headers)\n",
    "    soup = bs(r.text, 'html.parser') \n",
    "    return soup"
   ]
  },
  {
   "cell_type": "markdown",
   "metadata": {
    "id": "h9co3zozHjeR"
   },
   "source": [
    "*Scrap data*"
   ]
  },
  {
   "cell_type": "code",
   "execution_count": 6,
   "metadata": {
    "id": "U56eXb4nHjeR"
   },
   "outputs": [],
   "source": [
    "base_url = 'https://www.edmunds.com'\n",
    "if not os.path.isfile('data.csv'):\n",
    "    csv_file = open('data.csv', 'w', newline='', encoding='utf-8')\n",
    "    csv_writer = csv.DictWriter(csv_file, ['Exterior Color','Interior Color', 'Engine', 'Transmission', 'DriveTrain', \n",
    "                                           'City MPG','HWY MPG', 'Combine MPG', 'HorsePower' , 'Max Towing', 'Seats', 'Price'])\n",
    "    csv_writer.writeheader()\n",
    "    csv_file.close()\n",
    "    \n",
    "    with open('data.csv', \"a\", newline='') as fp:            \n",
    "        wr_data = csv.writer(fp, dialect='excel') \n",
    "        \n",
    "        for n in range(2, 6):\n",
    "            price_range = '{}-{}'.format(n*10000, (n+1)*10000)\n",
    "            price_url = 'https://www.edmunds.com/inventory/srp.html?price={}-{}&inventorytype=new&radius=500'.format(n*10000, (n+1)*10000)\n",
    "            price_soup = getUrl(price_url)\n",
    "            count_text = price_soup.find('span', class_='inventory-count').text.replace(',', '')\n",
    "            count = int(re.findall(r'\\d+', count_text)[0])\n",
    "            print(count)\n",
    "            pages = int(np.ceil(count / 21))\n",
    "            for pageNumber in range(pages):\n",
    "                print(n, ':', pageNumber)\n",
    "                page_url = '{}&pagenumber={}'.format(price_url, pageNumber+1)\n",
    "                page_soup = getUrl(price_url)\n",
    "                \n",
    "                links = page_soup.find_all('a', class_='usurp-inventory-card-vdp-link')\n",
    "                prod_links = []\n",
    "                for i in range(int(len(links)/2)):\n",
    "                    prod_links.append(links[i*2+1]['href'])\n",
    "\n",
    "                for link in prod_links:\n",
    "                    # time.sleep(1)\n",
    "                    prod_link = base_url + link\n",
    "                    prod_soup = getUrl(prod_link)\n",
    "                    try:                  \n",
    "                      features = prod_soup.find('section', class_='vehicle-summary').find_all('li')\n",
    "                      \n",
    "                      ext_color = None\n",
    "                      int_color = None\n",
    "                      engine = None\n",
    "                      transmission = None\n",
    "                      drivetrain = None\n",
    "                      mpg_city = None\n",
    "                      mpg_hwy = None\n",
    "                      mpg_combine = None\n",
    "                      horsepower = None\n",
    "                      maxtowing = None\n",
    "                      seats = None\n",
    "                      for soup in features:\n",
    "                          key = soup.find('div', class_='pl-0 col-auto').text\n",
    "                          try:\n",
    "                              value = soup.find('div', class_='pr-0 font-weight-bold text-right ml-1 summary-value col').text\n",
    "                          except:\n",
    "                              value = soup.find('div', class_='pr-0 font-weight-bold text-right ml-1 col').text\n",
    "                              \n",
    "                          if key == 'Ext. Color':\n",
    "                              ext_color = value.replace('Exterior color ', '')\n",
    "                          elif key == 'Int. Color':\n",
    "                              int_color = value.replace('Interior color ', '')\n",
    "                          elif key == 'Engine':\n",
    "                              engine = value\n",
    "                          elif key == 'Transmission':\n",
    "                              transmission = value\n",
    "                          elif key == 'Drivetrain':\n",
    "                              drivetrain = value\n",
    "                          elif key == 'MPG':\n",
    "                              mpgs = re.findall(r'\\d+', value)\n",
    "                              mpg_city = int(mpgs[0])\n",
    "                              mpg_hwy = int(mpgs[1])\n",
    "                              mpg_combine = int(mpgs[2])\n",
    "                          elif key == 'Horsepower':\n",
    "                              horsepower = int(re.findall(r'\\d+', value)[0])\n",
    "                          elif key == 'Max Towing Capacity':\n",
    "                              maxtowing = int(re.findall(r'\\d+', value.replace(',',''))[0])\n",
    "                          elif key == 'Seats':\n",
    "                              seats = int(re.findall(r'\\d+', value)[0])\n",
    "                          \n",
    "                      record = [ext_color,int_color,engine,transmission,drivetrain,mpg_city,\n",
    "                              mpg_hwy,mpg_combine,horsepower,maxtowing,seats,price_range]\n",
    "                      # print(record)\n",
    "                      wr_data.writerow(record)\n",
    "                    except:\n",
    "                      pass"
   ]
  },
  {
   "cell_type": "markdown",
   "metadata": {
    "id": "KAx_r2n-HjeT"
   },
   "source": [
    "# Data Analysis"
   ]
  },
  {
   "cell_type": "code",
   "execution_count": 7,
   "metadata": {
    "id": "1rLvv_GSHjeU"
   },
   "outputs": [],
   "source": [
    "import pandas as pd\n",
    "import matplotlib.pyplot as plt"
   ]
  },
  {
   "cell_type": "markdown",
   "metadata": {
    "id": "vpmJzM5pHjeV"
   },
   "source": [
    "*Load scraped data*"
   ]
  },
  {
   "cell_type": "code",
   "execution_count": 8,
   "metadata": {
    "colab": {
     "base_uri": "https://localhost:8080/",
     "height": 886
    },
    "id": "sJGM_UoRHjeW",
    "outputId": "a195267c-11b9-4588-86ba-1f67c9204232"
   },
   "outputs": [
    {
     "data": {
      "text/html": [
       "<div>\n",
       "<style scoped>\n",
       "    .dataframe tbody tr th:only-of-type {\n",
       "        vertical-align: middle;\n",
       "    }\n",
       "\n",
       "    .dataframe tbody tr th {\n",
       "        vertical-align: top;\n",
       "    }\n",
       "\n",
       "    .dataframe thead th {\n",
       "        text-align: right;\n",
       "    }\n",
       "</style>\n",
       "<table border=\"1\" class=\"dataframe\">\n",
       "  <thead>\n",
       "    <tr style=\"text-align: right;\">\n",
       "      <th></th>\n",
       "      <th>Exterior Color</th>\n",
       "      <th>Interior Color</th>\n",
       "      <th>Engine</th>\n",
       "      <th>Transmission</th>\n",
       "      <th>DriveTrain</th>\n",
       "      <th>City MPG</th>\n",
       "      <th>HWY MPG</th>\n",
       "      <th>Combine MPG</th>\n",
       "      <th>HorsePower</th>\n",
       "      <th>Max Towing</th>\n",
       "      <th>Seats</th>\n",
       "      <th>Price</th>\n",
       "    </tr>\n",
       "  </thead>\n",
       "  <tbody>\n",
       "    <tr>\n",
       "      <th>0</th>\n",
       "      <td>Crystal White Pearl</td>\n",
       "      <td>Gray premium cloth</td>\n",
       "      <td>gas</td>\n",
       "      <td>automatic</td>\n",
       "      <td>all wheel drive</td>\n",
       "      <td>37.0</td>\n",
       "      <td>34.0</td>\n",
       "      <td>29.0</td>\n",
       "      <td>152</td>\n",
       "      <td>1500.0</td>\n",
       "      <td>5</td>\n",
       "      <td>20000-30000</td>\n",
       "    </tr>\n",
       "    <tr>\n",
       "      <th>1</th>\n",
       "      <td>Pluton Blue w/Fusion Black Roof</td>\n",
       "      <td>Black leatherette/cloth</td>\n",
       "      <td>gas</td>\n",
       "      <td>automatic</td>\n",
       "      <td>all wheel drive</td>\n",
       "      <td>27.0</td>\n",
       "      <td>31.0</td>\n",
       "      <td>29.0</td>\n",
       "      <td>146</td>\n",
       "      <td>NaN</td>\n",
       "      <td>5</td>\n",
       "      <td>20000-30000</td>\n",
       "    </tr>\n",
       "    <tr>\n",
       "      <th>2</th>\n",
       "      <td>Clear White w/Fusion Black Roof</td>\n",
       "      <td>Black leatherette/cloth</td>\n",
       "      <td>gas</td>\n",
       "      <td>automatic</td>\n",
       "      <td>all wheel drive</td>\n",
       "      <td>27.0</td>\n",
       "      <td>31.0</td>\n",
       "      <td>29.0</td>\n",
       "      <td>146</td>\n",
       "      <td>NaN</td>\n",
       "      <td>5</td>\n",
       "      <td>20000-30000</td>\n",
       "    </tr>\n",
       "    <tr>\n",
       "      <th>3</th>\n",
       "      <td>Pure Red</td>\n",
       "      <td>Black premium cloth</td>\n",
       "      <td>gas</td>\n",
       "      <td>automatic</td>\n",
       "      <td>all wheel drive</td>\n",
       "      <td>37.0</td>\n",
       "      <td>34.0</td>\n",
       "      <td>29.0</td>\n",
       "      <td>152</td>\n",
       "      <td>1500.0</td>\n",
       "      <td>5</td>\n",
       "      <td>20000-30000</td>\n",
       "    </tr>\n",
       "    <tr>\n",
       "      <th>4</th>\n",
       "      <td>Crystal White Pearl</td>\n",
       "      <td>Black premium cloth</td>\n",
       "      <td>gas</td>\n",
       "      <td>automatic</td>\n",
       "      <td>all wheel drive</td>\n",
       "      <td>37.0</td>\n",
       "      <td>34.0</td>\n",
       "      <td>29.0</td>\n",
       "      <td>152</td>\n",
       "      <td>1500.0</td>\n",
       "      <td>5</td>\n",
       "      <td>20000-30000</td>\n",
       "    </tr>\n",
       "    <tr>\n",
       "      <th>...</th>\n",
       "      <td>...</td>\n",
       "      <td>...</td>\n",
       "      <td>...</td>\n",
       "      <td>...</td>\n",
       "      <td>...</td>\n",
       "      <td>...</td>\n",
       "      <td>...</td>\n",
       "      <td>...</td>\n",
       "      <td>...</td>\n",
       "      <td>...</td>\n",
       "      <td>...</td>\n",
       "      <td>...</td>\n",
       "    </tr>\n",
       "    <tr>\n",
       "      <th>17293</th>\n",
       "      <td>Machine Gray Metallic</td>\n",
       "      <td>Black leather</td>\n",
       "      <td>mild hybrid</td>\n",
       "      <td>automatic</td>\n",
       "      <td>all wheel drive</td>\n",
       "      <td>NaN</td>\n",
       "      <td>NaN</td>\n",
       "      <td>NaN</td>\n",
       "      <td>280</td>\n",
       "      <td>5000.0</td>\n",
       "      <td>7</td>\n",
       "      <td>50000-60000</td>\n",
       "    </tr>\n",
       "    <tr>\n",
       "      <th>17294</th>\n",
       "      <td>Artisan Red Premium</td>\n",
       "      <td>White Nappa premium leather</td>\n",
       "      <td>plug-in hybrid</td>\n",
       "      <td>automatic</td>\n",
       "      <td>all wheel drive</td>\n",
       "      <td>NaN</td>\n",
       "      <td>NaN</td>\n",
       "      <td>NaN</td>\n",
       "      <td>323</td>\n",
       "      <td>3500.0</td>\n",
       "      <td>7</td>\n",
       "      <td>50000-60000</td>\n",
       "    </tr>\n",
       "    <tr>\n",
       "      <th>17295</th>\n",
       "      <td>Sonic Silver</td>\n",
       "      <td>Black Nappa premium leather</td>\n",
       "      <td>plug-in hybrid</td>\n",
       "      <td>automatic</td>\n",
       "      <td>all wheel drive</td>\n",
       "      <td>NaN</td>\n",
       "      <td>NaN</td>\n",
       "      <td>NaN</td>\n",
       "      <td>323</td>\n",
       "      <td>3500.0</td>\n",
       "      <td>7</td>\n",
       "      <td>50000-60000</td>\n",
       "    </tr>\n",
       "    <tr>\n",
       "      <th>17296</th>\n",
       "      <td>Artisan Red Premium</td>\n",
       "      <td>Greige leather</td>\n",
       "      <td>plug-in hybrid</td>\n",
       "      <td>automatic</td>\n",
       "      <td>all wheel drive</td>\n",
       "      <td>NaN</td>\n",
       "      <td>NaN</td>\n",
       "      <td>NaN</td>\n",
       "      <td>323</td>\n",
       "      <td>3500.0</td>\n",
       "      <td>7</td>\n",
       "      <td>50000-60000</td>\n",
       "    </tr>\n",
       "    <tr>\n",
       "      <th>17297</th>\n",
       "      <td>Sonic Silver</td>\n",
       "      <td>Black leather</td>\n",
       "      <td>plug-in hybrid</td>\n",
       "      <td>automatic</td>\n",
       "      <td>all wheel drive</td>\n",
       "      <td>NaN</td>\n",
       "      <td>NaN</td>\n",
       "      <td>NaN</td>\n",
       "      <td>323</td>\n",
       "      <td>3500.0</td>\n",
       "      <td>7</td>\n",
       "      <td>50000-60000</td>\n",
       "    </tr>\n",
       "  </tbody>\n",
       "</table>\n",
       "<p>17298 rows × 12 columns</p>\n",
       "</div>"
      ],
      "text/plain": [
       "                        Exterior Color               Interior Color  \\\n",
       "0                  Crystal White Pearl           Gray premium cloth   \n",
       "1      Pluton Blue w/Fusion Black Roof      Black leatherette/cloth   \n",
       "2      Clear White w/Fusion Black Roof      Black leatherette/cloth   \n",
       "3                             Pure Red          Black premium cloth   \n",
       "4                  Crystal White Pearl          Black premium cloth   \n",
       "...                                ...                          ...   \n",
       "17293            Machine Gray Metallic                Black leather   \n",
       "17294              Artisan Red Premium  White Nappa premium leather   \n",
       "17295                     Sonic Silver  Black Nappa premium leather   \n",
       "17296              Artisan Red Premium               Greige leather   \n",
       "17297                     Sonic Silver                Black leather   \n",
       "\n",
       "               Engine Transmission       DriveTrain  City MPG  HWY MPG  \\\n",
       "0                 gas    automatic  all wheel drive      37.0     34.0   \n",
       "1                 gas    automatic  all wheel drive      27.0     31.0   \n",
       "2                 gas    automatic  all wheel drive      27.0     31.0   \n",
       "3                 gas    automatic  all wheel drive      37.0     34.0   \n",
       "4                 gas    automatic  all wheel drive      37.0     34.0   \n",
       "...               ...          ...              ...       ...      ...   \n",
       "17293     mild hybrid    automatic  all wheel drive       NaN      NaN   \n",
       "17294  plug-in hybrid    automatic  all wheel drive       NaN      NaN   \n",
       "17295  plug-in hybrid    automatic  all wheel drive       NaN      NaN   \n",
       "17296  plug-in hybrid    automatic  all wheel drive       NaN      NaN   \n",
       "17297  plug-in hybrid    automatic  all wheel drive       NaN      NaN   \n",
       "\n",
       "       Combine MPG  HorsePower  Max Towing  Seats        Price  \n",
       "0             29.0         152      1500.0      5  20000-30000  \n",
       "1             29.0         146         NaN      5  20000-30000  \n",
       "2             29.0         146         NaN      5  20000-30000  \n",
       "3             29.0         152      1500.0      5  20000-30000  \n",
       "4             29.0         152      1500.0      5  20000-30000  \n",
       "...            ...         ...         ...    ...          ...  \n",
       "17293          NaN         280      5000.0      7  50000-60000  \n",
       "17294          NaN         323      3500.0      7  50000-60000  \n",
       "17295          NaN         323      3500.0      7  50000-60000  \n",
       "17296          NaN         323      3500.0      7  50000-60000  \n",
       "17297          NaN         323      3500.0      7  50000-60000  \n",
       "\n",
       "[17298 rows x 12 columns]"
      ]
     },
     "execution_count": 8,
     "metadata": {},
     "output_type": "execute_result"
    }
   ],
   "source": [
    "df = pd.read_csv('data.csv')\n",
    "df"
   ]
  },
  {
   "cell_type": "markdown",
   "metadata": {
    "id": "T-IjJ24vHjeb"
   },
   "source": [
    "## EDA (Explanatory Data Analysis)"
   ]
  },
  {
   "cell_type": "markdown",
   "metadata": {
    "id": "5eLkBjyuHjec"
   },
   "source": [
    "*Check missing values and remove them*"
   ]
  },
  {
   "cell_type": "code",
   "execution_count": 9,
   "metadata": {
    "colab": {
     "base_uri": "https://localhost:8080/",
     "height": 81
    },
    "id": "AGixkpgEHjed",
    "outputId": "1c7c04b6-08ee-4121-e124-913b1d2d0077"
   },
   "outputs": [
    {
     "data": {
      "text/html": [
       "<div>\n",
       "<style scoped>\n",
       "    .dataframe tbody tr th:only-of-type {\n",
       "        vertical-align: middle;\n",
       "    }\n",
       "\n",
       "    .dataframe tbody tr th {\n",
       "        vertical-align: top;\n",
       "    }\n",
       "\n",
       "    .dataframe thead th {\n",
       "        text-align: right;\n",
       "    }\n",
       "</style>\n",
       "<table border=\"1\" class=\"dataframe\">\n",
       "  <thead>\n",
       "    <tr style=\"text-align: right;\">\n",
       "      <th></th>\n",
       "      <th>Interior Color</th>\n",
       "      <th>City MPG</th>\n",
       "      <th>HWY MPG</th>\n",
       "      <th>Combine MPG</th>\n",
       "      <th>Max Towing</th>\n",
       "    </tr>\n",
       "  </thead>\n",
       "  <tbody>\n",
       "    <tr>\n",
       "      <th>Count</th>\n",
       "      <td>1537</td>\n",
       "      <td>7529</td>\n",
       "      <td>7529</td>\n",
       "      <td>7529</td>\n",
       "      <td>1218</td>\n",
       "    </tr>\n",
       "  </tbody>\n",
       "</table>\n",
       "</div>"
      ],
      "text/plain": [
       "       Interior Color  City MPG  HWY MPG  Combine MPG  Max Towing\n",
       "Count            1537      7529     7529         7529        1218"
      ]
     },
     "execution_count": 9,
     "metadata": {},
     "output_type": "execute_result"
    }
   ],
   "source": [
    "df_count = pd.DataFrame(df.isnull().sum(),columns=[\"Count\"])\n",
    "df_count[df_count['Count'] > 0].transpose()"
   ]
  },
  {
   "cell_type": "code",
   "execution_count": 10,
   "metadata": {
    "colab": {
     "base_uri": "https://localhost:8080/",
     "height": 832
    },
    "id": "An-YbM_5Hjed",
    "outputId": "7e861738-1689-477f-c8d5-2e513fc8a73a"
   },
   "outputs": [
    {
     "data": {
      "text/html": [
       "<div>\n",
       "<style scoped>\n",
       "    .dataframe tbody tr th:only-of-type {\n",
       "        vertical-align: middle;\n",
       "    }\n",
       "\n",
       "    .dataframe tbody tr th {\n",
       "        vertical-align: top;\n",
       "    }\n",
       "\n",
       "    .dataframe thead th {\n",
       "        text-align: right;\n",
       "    }\n",
       "</style>\n",
       "<table border=\"1\" class=\"dataframe\">\n",
       "  <thead>\n",
       "    <tr style=\"text-align: right;\">\n",
       "      <th></th>\n",
       "      <th>Exterior Color</th>\n",
       "      <th>Interior Color</th>\n",
       "      <th>Engine</th>\n",
       "      <th>Transmission</th>\n",
       "      <th>DriveTrain</th>\n",
       "      <th>City MPG</th>\n",
       "      <th>HWY MPG</th>\n",
       "      <th>Combine MPG</th>\n",
       "      <th>HorsePower</th>\n",
       "      <th>Max Towing</th>\n",
       "      <th>Seats</th>\n",
       "      <th>Price</th>\n",
       "    </tr>\n",
       "  </thead>\n",
       "  <tbody>\n",
       "    <tr>\n",
       "      <th>0</th>\n",
       "      <td>Crystal White Pearl</td>\n",
       "      <td>Gray premium cloth</td>\n",
       "      <td>gas</td>\n",
       "      <td>automatic</td>\n",
       "      <td>all wheel drive</td>\n",
       "      <td>37.0</td>\n",
       "      <td>34.0</td>\n",
       "      <td>29.0</td>\n",
       "      <td>152</td>\n",
       "      <td>1500.0</td>\n",
       "      <td>5</td>\n",
       "      <td>20000-30000</td>\n",
       "    </tr>\n",
       "    <tr>\n",
       "      <th>1</th>\n",
       "      <td>Pure Red</td>\n",
       "      <td>Black premium cloth</td>\n",
       "      <td>gas</td>\n",
       "      <td>automatic</td>\n",
       "      <td>all wheel drive</td>\n",
       "      <td>37.0</td>\n",
       "      <td>34.0</td>\n",
       "      <td>29.0</td>\n",
       "      <td>152</td>\n",
       "      <td>1500.0</td>\n",
       "      <td>5</td>\n",
       "      <td>20000-30000</td>\n",
       "    </tr>\n",
       "    <tr>\n",
       "      <th>2</th>\n",
       "      <td>Crystal White Pearl</td>\n",
       "      <td>Black premium cloth</td>\n",
       "      <td>gas</td>\n",
       "      <td>automatic</td>\n",
       "      <td>all wheel drive</td>\n",
       "      <td>37.0</td>\n",
       "      <td>34.0</td>\n",
       "      <td>29.0</td>\n",
       "      <td>152</td>\n",
       "      <td>1500.0</td>\n",
       "      <td>5</td>\n",
       "      <td>20000-30000</td>\n",
       "    </tr>\n",
       "    <tr>\n",
       "      <th>3</th>\n",
       "      <td>Ice Silver Metallic</td>\n",
       "      <td>Gray cloth</td>\n",
       "      <td>gas</td>\n",
       "      <td>automatic</td>\n",
       "      <td>all wheel drive</td>\n",
       "      <td>37.0</td>\n",
       "      <td>34.0</td>\n",
       "      <td>29.0</td>\n",
       "      <td>152</td>\n",
       "      <td>1500.0</td>\n",
       "      <td>5</td>\n",
       "      <td>20000-30000</td>\n",
       "    </tr>\n",
       "    <tr>\n",
       "      <th>4</th>\n",
       "      <td>Crystal White Pearl</td>\n",
       "      <td>Gray premium cloth</td>\n",
       "      <td>gas</td>\n",
       "      <td>automatic</td>\n",
       "      <td>all wheel drive</td>\n",
       "      <td>37.0</td>\n",
       "      <td>34.0</td>\n",
       "      <td>29.0</td>\n",
       "      <td>152</td>\n",
       "      <td>1500.0</td>\n",
       "      <td>5</td>\n",
       "      <td>20000-30000</td>\n",
       "    </tr>\n",
       "    <tr>\n",
       "      <th>...</th>\n",
       "      <td>...</td>\n",
       "      <td>...</td>\n",
       "      <td>...</td>\n",
       "      <td>...</td>\n",
       "      <td>...</td>\n",
       "      <td>...</td>\n",
       "      <td>...</td>\n",
       "      <td>...</td>\n",
       "      <td>...</td>\n",
       "      <td>...</td>\n",
       "      <td>...</td>\n",
       "      <td>...</td>\n",
       "    </tr>\n",
       "    <tr>\n",
       "      <th>7679</th>\n",
       "      <td>Crystal White Pearl</td>\n",
       "      <td>Slate Black Nappa premium leather</td>\n",
       "      <td>gas</td>\n",
       "      <td>automatic</td>\n",
       "      <td>all wheel drive</td>\n",
       "      <td>22.0</td>\n",
       "      <td>29.0</td>\n",
       "      <td>25.0</td>\n",
       "      <td>260</td>\n",
       "      <td>3500.0</td>\n",
       "      <td>5</td>\n",
       "      <td>40000-50000</td>\n",
       "    </tr>\n",
       "    <tr>\n",
       "      <th>7680</th>\n",
       "      <td>Autumn Green Metallic</td>\n",
       "      <td>Gray StarTex leatherette</td>\n",
       "      <td>gas</td>\n",
       "      <td>automatic</td>\n",
       "      <td>all wheel drive</td>\n",
       "      <td>21.0</td>\n",
       "      <td>26.0</td>\n",
       "      <td>23.0</td>\n",
       "      <td>260</td>\n",
       "      <td>3500.0</td>\n",
       "      <td>5</td>\n",
       "      <td>40000-50000</td>\n",
       "    </tr>\n",
       "    <tr>\n",
       "      <th>7681</th>\n",
       "      <td>Crystal White Pearl</td>\n",
       "      <td>Slate Black leather</td>\n",
       "      <td>gas</td>\n",
       "      <td>automatic</td>\n",
       "      <td>all wheel drive</td>\n",
       "      <td>26.0</td>\n",
       "      <td>32.0</td>\n",
       "      <td>28.0</td>\n",
       "      <td>182</td>\n",
       "      <td>2700.0</td>\n",
       "      <td>5</td>\n",
       "      <td>40000-50000</td>\n",
       "    </tr>\n",
       "    <tr>\n",
       "      <th>7682</th>\n",
       "      <td>Magnetite Gray Metallic</td>\n",
       "      <td>Gray StarTex leatherette</td>\n",
       "      <td>gas</td>\n",
       "      <td>automatic</td>\n",
       "      <td>all wheel drive</td>\n",
       "      <td>21.0</td>\n",
       "      <td>26.0</td>\n",
       "      <td>23.0</td>\n",
       "      <td>260</td>\n",
       "      <td>3500.0</td>\n",
       "      <td>5</td>\n",
       "      <td>40000-50000</td>\n",
       "    </tr>\n",
       "    <tr>\n",
       "      <th>7683</th>\n",
       "      <td>Autumn Green Metallic</td>\n",
       "      <td>Warm Ivory leather</td>\n",
       "      <td>gas</td>\n",
       "      <td>automatic</td>\n",
       "      <td>all wheel drive</td>\n",
       "      <td>22.0</td>\n",
       "      <td>29.0</td>\n",
       "      <td>25.0</td>\n",
       "      <td>260</td>\n",
       "      <td>3500.0</td>\n",
       "      <td>5</td>\n",
       "      <td>40000-50000</td>\n",
       "    </tr>\n",
       "  </tbody>\n",
       "</table>\n",
       "<p>7684 rows × 12 columns</p>\n",
       "</div>"
      ],
      "text/plain": [
       "               Exterior Color                     Interior Color Engine  \\\n",
       "0         Crystal White Pearl                 Gray premium cloth    gas   \n",
       "1                    Pure Red                Black premium cloth    gas   \n",
       "2         Crystal White Pearl                Black premium cloth    gas   \n",
       "3         Ice Silver Metallic                         Gray cloth    gas   \n",
       "4         Crystal White Pearl                 Gray premium cloth    gas   \n",
       "...                       ...                                ...    ...   \n",
       "7679      Crystal White Pearl  Slate Black Nappa premium leather    gas   \n",
       "7680    Autumn Green Metallic           Gray StarTex leatherette    gas   \n",
       "7681      Crystal White Pearl                Slate Black leather    gas   \n",
       "7682  Magnetite Gray Metallic           Gray StarTex leatherette    gas   \n",
       "7683    Autumn Green Metallic                 Warm Ivory leather    gas   \n",
       "\n",
       "     Transmission       DriveTrain  City MPG  HWY MPG  Combine MPG  \\\n",
       "0       automatic  all wheel drive      37.0     34.0         29.0   \n",
       "1       automatic  all wheel drive      37.0     34.0         29.0   \n",
       "2       automatic  all wheel drive      37.0     34.0         29.0   \n",
       "3       automatic  all wheel drive      37.0     34.0         29.0   \n",
       "4       automatic  all wheel drive      37.0     34.0         29.0   \n",
       "...           ...              ...       ...      ...          ...   \n",
       "7679    automatic  all wheel drive      22.0     29.0         25.0   \n",
       "7680    automatic  all wheel drive      21.0     26.0         23.0   \n",
       "7681    automatic  all wheel drive      26.0     32.0         28.0   \n",
       "7682    automatic  all wheel drive      21.0     26.0         23.0   \n",
       "7683    automatic  all wheel drive      22.0     29.0         25.0   \n",
       "\n",
       "      HorsePower  Max Towing  Seats        Price  \n",
       "0            152      1500.0      5  20000-30000  \n",
       "1            152      1500.0      5  20000-30000  \n",
       "2            152      1500.0      5  20000-30000  \n",
       "3            152      1500.0      5  20000-30000  \n",
       "4            152      1500.0      5  20000-30000  \n",
       "...          ...         ...    ...          ...  \n",
       "7679         260      3500.0      5  40000-50000  \n",
       "7680         260      3500.0      5  40000-50000  \n",
       "7681         182      2700.0      5  40000-50000  \n",
       "7682         260      3500.0      5  40000-50000  \n",
       "7683         260      3500.0      5  40000-50000  \n",
       "\n",
       "[7684 rows x 12 columns]"
      ]
     },
     "execution_count": 10,
     "metadata": {},
     "output_type": "execute_result"
    }
   ],
   "source": [
    "df.dropna(inplace=True)\n",
    "df.reset_index(drop = True, inplace=True)\n",
    "df"
   ]
  },
  {
   "cell_type": "markdown",
   "metadata": {
    "id": "jlfB2FHPHjee"
   },
   "source": [
    "9614 rows removed, since they contain missing values."
   ]
  },
  {
   "cell_type": "markdown",
   "metadata": {
    "id": "Hfrme33SFT6Q"
   },
   "source": [
    "*Count barplot of the exterior color*"
   ]
  },
  {
   "cell_type": "code",
   "execution_count": 11,
   "metadata": {
    "colab": {
     "base_uri": "https://localhost:8080/",
     "height": 508
    },
    "id": "JRh50jgYKx5z",
    "outputId": "80f54d76-0d16-4ae7-8ca4-206e6027c3bb"
   },
   "outputs": [
    {
     "data": {
      "text/plain": [
       "Text(0.5, 1.0, 'Count of Exterior Color')"
      ]
     },
     "execution_count": 11,
     "metadata": {},
     "output_type": "execute_result"
    },
    {
     "data": {
      "image/png": "[encoded data removed]",
      "text/plain": [
       "<Figure size 432x288 with 1 Axes>"
      ]
     },
     "metadata": {
      "needs_background": "light"
     },
     "output_type": "display_data"
    }
   ],
   "source": [
    "df_ext_color = df['Exterior Color'].value_counts()\n",
    "\n",
    "# plot labels indicating the number times the team was runner-up\n",
    "for i, value in enumerate(df_ext_color):\n",
    "     plt.text(value, i, str(value), horizontalalignment='right', verticalalignment='center', weight='bold', color='white', fontsize=12)\n",
    "\n",
    "# plot the results using an horizontal bar plot\n",
    "df_ext_color.plot(kind='barh', color='maroon')\n",
    "\n",
    "# ticks\n",
    "plt.xticks(fontsize=14)\n",
    "plt.yticks(fontsize=14)\n",
    "\n",
    "# labels and title\n",
    "plt.xlabel('Number of times', fontsize=14)\n",
    "plt.ylabel('Exterior Color', fontsize=14)\n",
    "plt.title('Count of Exterior Color', fontsize=20)"
   ]
  },
  {
   "cell_type": "markdown",
   "metadata": {
    "id": "4m7SS_v2FT6R"
   },
   "source": [
    "*Count barplot of interior color*"
   ]
  },
  {
   "cell_type": "code",
   "execution_count": 12,
   "metadata": {
    "colab": {
     "base_uri": "https://localhost:8080/",
     "height": 503
    },
    "id": "21jC8VitLlCZ",
    "outputId": "6b6c3dfd-7aaf-41b0-9d5f-4d6a651ebac2"
   },
   "outputs": [
    {
     "data": {
      "text/plain": [
       "Text(0.5, 1.0, 'Count of Interior Color')"
      ]
     },
     "execution_count": 12,
     "metadata": {},
     "output_type": "execute_result"
    },
    {
     "data": {
      "image/png": "[encoded data removed]",
      "text/plain": [
       "<Figure size 432x288 with 1 Axes>"
      ]
     },
     "metadata": {
      "needs_background": "light"
     },
     "output_type": "display_data"
    }
   ],
   "source": [
    "df_int_color = df['Interior Color'].value_counts()\n",
    "\n",
    "# plot labels indicating the number times the team was runner-up\n",
    "for i, value in enumerate(df_int_color):\n",
    "     plt.text(value, i, str(value), horizontalalignment='right', verticalalignment='center', weight='bold', color='white', fontsize=12)\n",
    "\n",
    "# plot the results using an horizontal bar plot\n",
    "df_int_color.plot(kind='barh', color='maroon')\n",
    "\n",
    "# ticks\n",
    "plt.xticks(fontsize=14)\n",
    "plt.yticks(fontsize=14)\n",
    "\n",
    "# labels and title\n",
    "plt.xlabel('Number of times', fontsize=14)\n",
    "plt.ylabel('Interior Color', fontsize=14)\n",
    "plt.title('Count of Interior Color', fontsize=20)"
   ]
  },
  {
   "cell_type": "markdown",
   "metadata": {
    "id": "JsBnv-8xFT6S"
   },
   "source": [
    "*Count barplot of price range*"
   ]
  },
  {
   "cell_type": "code",
   "execution_count": 13,
   "metadata": {
    "colab": {
     "base_uri": "https://localhost:8080/",
     "height": 508
    },
    "id": "Skk1kI1nMWD-",
    "outputId": "0e863864-72d3-40c5-c287-4c54505043a0"
   },
   "outputs": [
    {
     "data": {
      "text/plain": [
       "Text(0.5, 1.0, 'Count of Price Range')"
      ]
     },
     "execution_count": 13,
     "metadata": {},
     "output_type": "execute_result"
    },
    {
     "data": {
      "image/png": "[encoded data removed]",
      "text/plain": [
       "<Figure size 432x288 with 1 Axes>"
      ]
     },
     "metadata": {
      "needs_background": "light"
     },
     "output_type": "display_data"
    }
   ],
   "source": [
    "df_price = df['Price'].value_counts()\n",
    "\n",
    "# plot labels indicating the number times the team was runner-up\n",
    "for i, value in enumerate(df_price):\n",
    "     plt.text(value, i, str(value), horizontalalignment='right', verticalalignment='center', weight='bold', color='white', fontsize=12)\n",
    "\n",
    "# plot the results using an horizontal bar plot\n",
    "df_price.plot(kind='barh', color='maroon')\n",
    "\n",
    "# ticks\n",
    "plt.xticks(fontsize=14)\n",
    "plt.yticks(fontsize=14)\n",
    "\n",
    "# labels and title\n",
    "plt.xlabel('Number of times', fontsize=14)\n",
    "plt.ylabel('Price Range', fontsize=14)\n",
    "plt.title('Count of Price Range', fontsize=20)"
   ]
  },
  {
   "cell_type": "markdown",
   "metadata": {
    "id": "lJuaKJrJFT6U"
   },
   "source": [
    "From this graph, we can see that data imbalanced. Hence, we balanced data by select same number of rows for each price range."
   ]
  },
  {
   "cell_type": "code",
   "execution_count": 14,
   "metadata": {
    "colab": {
     "base_uri": "https://localhost:8080/"
    },
    "id": "Bk1JUS3wMLrP",
    "outputId": "b3dec789-060a-40fd-e275-33babaec13cf"
   },
   "outputs": [
    {
     "data": {
      "text/plain": [
       "array(['gas'], dtype=object)"
      ]
     },
     "execution_count": 14,
     "metadata": {},
     "output_type": "execute_result"
    }
   ],
   "source": [
    "df['Engine'].unique()"
   ]
  },
  {
   "cell_type": "code",
   "execution_count": 15,
   "metadata": {
    "colab": {
     "base_uri": "https://localhost:8080/"
    },
    "id": "tXTM2pfaMMCX",
    "outputId": "e98698ec-ab73-473b-868a-f462ad69e5b6"
   },
   "outputs": [
    {
     "data": {
      "text/plain": [
       "array(['automatic'], dtype=object)"
      ]
     },
     "execution_count": 15,
     "metadata": {},
     "output_type": "execute_result"
    }
   ],
   "source": [
    "df['Transmission'].unique()"
   ]
  },
  {
   "cell_type": "code",
   "execution_count": 16,
   "metadata": {
    "colab": {
     "base_uri": "https://localhost:8080/"
    },
    "id": "mOIcqYtiMPCQ",
    "outputId": "a9c4babd-97b9-45e6-c5d7-f0a00a54a904"
   },
   "outputs": [
    {
     "data": {
      "text/plain": [
       "array(['all wheel drive'], dtype=object)"
      ]
     },
     "execution_count": 16,
     "metadata": {},
     "output_type": "execute_result"
    }
   ],
   "source": [
    "df['DriveTrain'].unique()"
   ]
  },
  {
   "cell_type": "code",
   "execution_count": 17,
   "metadata": {
    "colab": {
     "base_uri": "https://localhost:8080/"
    },
    "id": "Q2V6yfvil11c",
    "outputId": "6c63b190-b9eb-40cb-f886-5f5d8c6200d9"
   },
   "outputs": [
    {
     "data": {
      "text/plain": [
       "array([5], dtype=int64)"
      ]
     },
     "execution_count": 17,
     "metadata": {},
     "output_type": "execute_result"
    }
   ],
   "source": [
    "df['Seats'].unique()"
   ]
  },
  {
   "cell_type": "markdown",
   "metadata": {
    "id": "3r7KBEHqFT6c"
   },
   "source": [
    "As we can see, Engin, Transmission, DriveTrain, Seats columns have unique value. So it will don't effect to the model and we will remove this columns with string columns."
   ]
  },
  {
   "cell_type": "code",
   "execution_count": 18,
   "metadata": {
    "colab": {
     "base_uri": "https://localhost:8080/",
     "height": 423
    },
    "id": "wsFwl_NmNZgW",
    "outputId": "234e400c-8ebf-4ed5-9a78-4372d9c2904e"
   },
   "outputs": [
    {
     "data": {
      "text/html": [
       "<div>\n",
       "<style scoped>\n",
       "    .dataframe tbody tr th:only-of-type {\n",
       "        vertical-align: middle;\n",
       "    }\n",
       "\n",
       "    .dataframe tbody tr th {\n",
       "        vertical-align: top;\n",
       "    }\n",
       "\n",
       "    .dataframe thead th {\n",
       "        text-align: right;\n",
       "    }\n",
       "</style>\n",
       "<table border=\"1\" class=\"dataframe\">\n",
       "  <thead>\n",
       "    <tr style=\"text-align: right;\">\n",
       "      <th></th>\n",
       "      <th>City MPG</th>\n",
       "      <th>HWY MPG</th>\n",
       "      <th>Combine MPG</th>\n",
       "      <th>HorsePower</th>\n",
       "      <th>Max Towing</th>\n",
       "      <th>Price</th>\n",
       "    </tr>\n",
       "  </thead>\n",
       "  <tbody>\n",
       "    <tr>\n",
       "      <th>0</th>\n",
       "      <td>37.0</td>\n",
       "      <td>34.0</td>\n",
       "      <td>29.0</td>\n",
       "      <td>152</td>\n",
       "      <td>1500.0</td>\n",
       "      <td>20000-30000</td>\n",
       "    </tr>\n",
       "    <tr>\n",
       "      <th>1</th>\n",
       "      <td>37.0</td>\n",
       "      <td>34.0</td>\n",
       "      <td>29.0</td>\n",
       "      <td>152</td>\n",
       "      <td>1500.0</td>\n",
       "      <td>20000-30000</td>\n",
       "    </tr>\n",
       "    <tr>\n",
       "      <th>2</th>\n",
       "      <td>37.0</td>\n",
       "      <td>34.0</td>\n",
       "      <td>29.0</td>\n",
       "      <td>152</td>\n",
       "      <td>1500.0</td>\n",
       "      <td>20000-30000</td>\n",
       "    </tr>\n",
       "    <tr>\n",
       "      <th>3</th>\n",
       "      <td>37.0</td>\n",
       "      <td>34.0</td>\n",
       "      <td>29.0</td>\n",
       "      <td>152</td>\n",
       "      <td>1500.0</td>\n",
       "      <td>20000-30000</td>\n",
       "    </tr>\n",
       "    <tr>\n",
       "      <th>4</th>\n",
       "      <td>37.0</td>\n",
       "      <td>34.0</td>\n",
       "      <td>29.0</td>\n",
       "      <td>152</td>\n",
       "      <td>1500.0</td>\n",
       "      <td>20000-30000</td>\n",
       "    </tr>\n",
       "    <tr>\n",
       "      <th>...</th>\n",
       "      <td>...</td>\n",
       "      <td>...</td>\n",
       "      <td>...</td>\n",
       "      <td>...</td>\n",
       "      <td>...</td>\n",
       "      <td>...</td>\n",
       "    </tr>\n",
       "    <tr>\n",
       "      <th>7679</th>\n",
       "      <td>22.0</td>\n",
       "      <td>29.0</td>\n",
       "      <td>25.0</td>\n",
       "      <td>260</td>\n",
       "      <td>3500.0</td>\n",
       "      <td>40000-50000</td>\n",
       "    </tr>\n",
       "    <tr>\n",
       "      <th>7680</th>\n",
       "      <td>21.0</td>\n",
       "      <td>26.0</td>\n",
       "      <td>23.0</td>\n",
       "      <td>260</td>\n",
       "      <td>3500.0</td>\n",
       "      <td>40000-50000</td>\n",
       "    </tr>\n",
       "    <tr>\n",
       "      <th>7681</th>\n",
       "      <td>26.0</td>\n",
       "      <td>32.0</td>\n",
       "      <td>28.0</td>\n",
       "      <td>182</td>\n",
       "      <td>2700.0</td>\n",
       "      <td>40000-50000</td>\n",
       "    </tr>\n",
       "    <tr>\n",
       "      <th>7682</th>\n",
       "      <td>21.0</td>\n",
       "      <td>26.0</td>\n",
       "      <td>23.0</td>\n",
       "      <td>260</td>\n",
       "      <td>3500.0</td>\n",
       "      <td>40000-50000</td>\n",
       "    </tr>\n",
       "    <tr>\n",
       "      <th>7683</th>\n",
       "      <td>22.0</td>\n",
       "      <td>29.0</td>\n",
       "      <td>25.0</td>\n",
       "      <td>260</td>\n",
       "      <td>3500.0</td>\n",
       "      <td>40000-50000</td>\n",
       "    </tr>\n",
       "  </tbody>\n",
       "</table>\n",
       "<p>7684 rows × 6 columns</p>\n",
       "</div>"
      ],
      "text/plain": [
       "      City MPG  HWY MPG  Combine MPG  HorsePower  Max Towing        Price\n",
       "0         37.0     34.0         29.0         152      1500.0  20000-30000\n",
       "1         37.0     34.0         29.0         152      1500.0  20000-30000\n",
       "2         37.0     34.0         29.0         152      1500.0  20000-30000\n",
       "3         37.0     34.0         29.0         152      1500.0  20000-30000\n",
       "4         37.0     34.0         29.0         152      1500.0  20000-30000\n",
       "...        ...      ...          ...         ...         ...          ...\n",
       "7679      22.0     29.0         25.0         260      3500.0  40000-50000\n",
       "7680      21.0     26.0         23.0         260      3500.0  40000-50000\n",
       "7681      26.0     32.0         28.0         182      2700.0  40000-50000\n",
       "7682      21.0     26.0         23.0         260      3500.0  40000-50000\n",
       "7683      22.0     29.0         25.0         260      3500.0  40000-50000\n",
       "\n",
       "[7684 rows x 6 columns]"
      ]
     },
     "execution_count": 18,
     "metadata": {},
     "output_type": "execute_result"
    }
   ],
   "source": [
    "df.drop(['Exterior Color', 'Interior Color','Engine', 'Transmission', 'DriveTrain', 'Seats'], axis=1, inplace=True)\n",
    "df.reset_index(drop = True, inplace=True)\n",
    "df"
   ]
  },
  {
   "cell_type": "markdown",
   "metadata": {
    "id": "arTinKTMHjef"
   },
   "source": [
    "*Plot boxplot to find outliers*"
   ]
  },
  {
   "cell_type": "code",
   "execution_count": 19,
   "metadata": {
    "colab": {
     "base_uri": "https://localhost:8080/",
     "height": 548
    },
    "id": "BHSDCAlcHjef",
    "outputId": "50ca8e29-d6bc-4bf3-fffb-64cf7c86be8f"
   },
   "outputs": [
    {
     "data": {
      "image/png": "[encoded data removed]",
      "text/plain": [
       "<Figure size 1080x648 with 6 Axes>"
      ]
     },
     "metadata": {
      "needs_background": "light"
     },
     "output_type": "display_data"
    }
   ],
   "source": [
    "colnames = df.columns[:-1]\n",
    "f, axes = plt.subplots(2, 3, figsize=(15, 9), sharey=False)\n",
    "# Create a boxplot for each continue variable\n",
    "for i in range(2):\n",
    "    for j in range(3):\n",
    "        if not (i==1 and j==2):\n",
    "          col = colnames[i * 3 + j]\n",
    "          df[[col]].boxplot(column=col, ax = axes[i, j])\n",
    "plt.show()"
   ]
  },
  {
   "cell_type": "markdown",
   "metadata": {
    "id": "y3LrD4bCHjeg"
   },
   "source": [
    "*Remove outliers*"
   ]
  },
  {
   "cell_type": "code",
   "execution_count": 20,
   "metadata": {
    "colab": {
     "base_uri": "https://localhost:8080/",
     "height": 206
    },
    "id": "XmMEDxiWHjeh",
    "outputId": "5e32ee24-fda3-4fea-f60b-8c1ed9386206"
   },
   "outputs": [
    {
     "data": {
      "text/html": [
       "<div>\n",
       "<style scoped>\n",
       "    .dataframe tbody tr th:only-of-type {\n",
       "        vertical-align: middle;\n",
       "    }\n",
       "\n",
       "    .dataframe tbody tr th {\n",
       "        vertical-align: top;\n",
       "    }\n",
       "\n",
       "    .dataframe thead th {\n",
       "        text-align: right;\n",
       "    }\n",
       "</style>\n",
       "<table border=\"1\" class=\"dataframe\">\n",
       "  <thead>\n",
       "    <tr style=\"text-align: right;\">\n",
       "      <th></th>\n",
       "      <th>Columns</th>\n",
       "      <th>Number of Outliers</th>\n",
       "    </tr>\n",
       "  </thead>\n",
       "  <tbody>\n",
       "    <tr>\n",
       "      <th>0</th>\n",
       "      <td>City MPG</td>\n",
       "      <td>0</td>\n",
       "    </tr>\n",
       "    <tr>\n",
       "      <th>1</th>\n",
       "      <td>HWY MPG</td>\n",
       "      <td>0</td>\n",
       "    </tr>\n",
       "    <tr>\n",
       "      <th>2</th>\n",
       "      <td>Combine MPG</td>\n",
       "      <td>0</td>\n",
       "    </tr>\n",
       "    <tr>\n",
       "      <th>3</th>\n",
       "      <td>HorsePower</td>\n",
       "      <td>0</td>\n",
       "    </tr>\n",
       "    <tr>\n",
       "      <th>4</th>\n",
       "      <td>Max Towing</td>\n",
       "      <td>0</td>\n",
       "    </tr>\n",
       "  </tbody>\n",
       "</table>\n",
       "</div>"
      ],
      "text/plain": [
       "       Columns  Number of Outliers\n",
       "0     City MPG                   0\n",
       "1      HWY MPG                   0\n",
       "2  Combine MPG                   0\n",
       "3   HorsePower                   0\n",
       "4   Max Towing                   0"
      ]
     },
     "execution_count": 20,
     "metadata": {},
     "output_type": "execute_result"
    }
   ],
   "source": [
    "# Calculate the interquartile range\n",
    "df_outliers = df.copy()\n",
    "outliers_num = []\n",
    "for col in colnames:\n",
    "    series = df[col]\n",
    "    Q1 = series.quantile(0.1)\n",
    "    Q3 = series.quantile(0.9)\n",
    "    iqr = Q3 - Q1\n",
    "    lower = Q1 - 1.5 * iqr\n",
    "    upper = Q3 + 1.5 * iqr\n",
    "    \n",
    "    outliers = df.loc[(series < lower) | (series > upper)]\n",
    "    df_outliers = df_outliers.loc[(series >= lower) & (series <= upper)]\n",
    "    outliers_num.append(len(outliers))\n",
    "    \n",
    "\n",
    "outliers_table = pd.DataFrame(list(zip(colnames, outliers_num)),\n",
    "               columns =['Columns','Number of Outliers'])\n",
    "\n",
    "outliers_table"
   ]
  },
  {
   "cell_type": "markdown",
   "metadata": {
    "id": "DAV1R4JQHjel"
   },
   "source": [
    "This table shows that thereisn't outliers."
   ]
  },
  {
   "cell_type": "markdown",
   "metadata": {
    "id": "nFVKzBp2Hjen"
   },
   "source": [
    "*Statistical Features*"
   ]
  },
  {
   "cell_type": "code",
   "execution_count": 21,
   "metadata": {
    "colab": {
     "base_uri": "https://localhost:8080/",
     "height": 300
    },
    "id": "fZdrAZX8Hjen",
    "outputId": "a7f9150d-287a-417f-bac0-21a6a1332d84"
   },
   "outputs": [
    {
     "data": {
      "text/html": [
       "<div>\n",
       "<style scoped>\n",
       "    .dataframe tbody tr th:only-of-type {\n",
       "        vertical-align: middle;\n",
       "    }\n",
       "\n",
       "    .dataframe tbody tr th {\n",
       "        vertical-align: top;\n",
       "    }\n",
       "\n",
       "    .dataframe thead th {\n",
       "        text-align: right;\n",
       "    }\n",
       "</style>\n",
       "<table border=\"1\" class=\"dataframe\">\n",
       "  <thead>\n",
       "    <tr style=\"text-align: right;\">\n",
       "      <th></th>\n",
       "      <th>City MPG</th>\n",
       "      <th>HWY MPG</th>\n",
       "      <th>Combine MPG</th>\n",
       "      <th>HorsePower</th>\n",
       "      <th>Max Towing</th>\n",
       "    </tr>\n",
       "  </thead>\n",
       "  <tbody>\n",
       "    <tr>\n",
       "      <th>count</th>\n",
       "      <td>7684.000000</td>\n",
       "      <td>7684.000000</td>\n",
       "      <td>7684.000000</td>\n",
       "      <td>7684.000000</td>\n",
       "      <td>7684.000000</td>\n",
       "    </tr>\n",
       "    <tr>\n",
       "      <th>mean</th>\n",
       "      <td>32.067933</td>\n",
       "      <td>32.722150</td>\n",
       "      <td>28.179984</td>\n",
       "      <td>172.251171</td>\n",
       "      <td>2070.015617</td>\n",
       "    </tr>\n",
       "    <tr>\n",
       "      <th>std</th>\n",
       "      <td>6.097205</td>\n",
       "      <td>2.045614</td>\n",
       "      <td>1.523732</td>\n",
       "      <td>32.697493</td>\n",
       "      <td>724.367313</td>\n",
       "    </tr>\n",
       "    <tr>\n",
       "      <th>min</th>\n",
       "      <td>21.000000</td>\n",
       "      <td>26.000000</td>\n",
       "      <td>23.000000</td>\n",
       "      <td>152.000000</td>\n",
       "      <td>1500.000000</td>\n",
       "    </tr>\n",
       "    <tr>\n",
       "      <th>25%</th>\n",
       "      <td>26.000000</td>\n",
       "      <td>32.000000</td>\n",
       "      <td>28.000000</td>\n",
       "      <td>152.000000</td>\n",
       "      <td>1500.000000</td>\n",
       "    </tr>\n",
       "    <tr>\n",
       "      <th>50%</th>\n",
       "      <td>37.000000</td>\n",
       "      <td>34.000000</td>\n",
       "      <td>29.000000</td>\n",
       "      <td>152.000000</td>\n",
       "      <td>1500.000000</td>\n",
       "    </tr>\n",
       "    <tr>\n",
       "      <th>75%</th>\n",
       "      <td>37.000000</td>\n",
       "      <td>34.000000</td>\n",
       "      <td>29.000000</td>\n",
       "      <td>182.000000</td>\n",
       "      <td>2700.000000</td>\n",
       "    </tr>\n",
       "    <tr>\n",
       "      <th>max</th>\n",
       "      <td>37.000000</td>\n",
       "      <td>34.000000</td>\n",
       "      <td>29.000000</td>\n",
       "      <td>260.000000</td>\n",
       "      <td>3500.000000</td>\n",
       "    </tr>\n",
       "  </tbody>\n",
       "</table>\n",
       "</div>"
      ],
      "text/plain": [
       "          City MPG      HWY MPG  Combine MPG   HorsePower   Max Towing\n",
       "count  7684.000000  7684.000000  7684.000000  7684.000000  7684.000000\n",
       "mean     32.067933    32.722150    28.179984   172.251171  2070.015617\n",
       "std       6.097205     2.045614     1.523732    32.697493   724.367313\n",
       "min      21.000000    26.000000    23.000000   152.000000  1500.000000\n",
       "25%      26.000000    32.000000    28.000000   152.000000  1500.000000\n",
       "50%      37.000000    34.000000    29.000000   152.000000  1500.000000\n",
       "75%      37.000000    34.000000    29.000000   182.000000  2700.000000\n",
       "max      37.000000    34.000000    29.000000   260.000000  3500.000000"
      ]
     },
     "execution_count": 21,
     "metadata": {},
     "output_type": "execute_result"
    }
   ],
   "source": [
    "df.describe()"
   ]
  },
  {
   "cell_type": "markdown",
   "metadata": {
    "id": "1uvj7LVuHjeo"
   },
   "source": [
    "*Plot density graph of countinuous variables*"
   ]
  },
  {
   "cell_type": "code",
   "execution_count": 22,
   "metadata": {
    "colab": {
     "base_uri": "https://localhost:8080/",
     "height": 538
    },
    "id": "3imvzrohHjeo",
    "outputId": "99bdf1ee-3617-4286-c3b7-35d459b5ae3c"
   },
   "outputs": [
    {
     "data": {
      "image/png": "[encoded data removed]",
      "text/plain": [
       "<Figure size 1080x648 with 6 Axes>"
      ]
     },
     "metadata": {
      "needs_background": "light"
     },
     "output_type": "display_data"
    }
   ],
   "source": [
    "f, axes = plt.subplots(2, 3, figsize=(15, 9), sharey=False)\n",
    "for i in range(2):\n",
    "    for j in range(3):        \n",
    "        if not (i == 1 and j == 2):\n",
    "          col = colnames[i * 3 + j]\n",
    "          df[[col]].plot.density(color = 'maroon', ax = axes[i, j])\n",
    "plt.show()"
   ]
  },
  {
   "cell_type": "markdown",
   "metadata": {
    "id": "YUrqdueDHjet"
   },
   "source": [
    "## Classification Models"
   ]
  },
  {
   "cell_type": "markdown",
   "metadata": {
    "id": "T1LMsyZAGjG4"
   },
   "source": [
    "*Balanced Data*"
   ]
  },
  {
   "cell_type": "code",
   "execution_count": 23,
   "metadata": {
    "colab": {
     "base_uri": "https://localhost:8080/",
     "height": 423
    },
    "id": "FOApKzIGGesn",
    "outputId": "59d87bf4-dda3-488e-81b0-432f94a1ea5d"
   },
   "outputs": [
    {
     "data": {
      "text/html": [
       "<div>\n",
       "<style scoped>\n",
       "    .dataframe tbody tr th:only-of-type {\n",
       "        vertical-align: middle;\n",
       "    }\n",
       "\n",
       "    .dataframe tbody tr th {\n",
       "        vertical-align: top;\n",
       "    }\n",
       "\n",
       "    .dataframe thead th {\n",
       "        text-align: right;\n",
       "    }\n",
       "</style>\n",
       "<table border=\"1\" class=\"dataframe\">\n",
       "  <thead>\n",
       "    <tr style=\"text-align: right;\">\n",
       "      <th></th>\n",
       "      <th>City MPG</th>\n",
       "      <th>HWY MPG</th>\n",
       "      <th>Combine MPG</th>\n",
       "      <th>HorsePower</th>\n",
       "      <th>Max Towing</th>\n",
       "      <th>Price</th>\n",
       "    </tr>\n",
       "  </thead>\n",
       "  <tbody>\n",
       "    <tr>\n",
       "      <th>0</th>\n",
       "      <td>37.0</td>\n",
       "      <td>34.0</td>\n",
       "      <td>29.0</td>\n",
       "      <td>152</td>\n",
       "      <td>1500.0</td>\n",
       "      <td>20000-30000</td>\n",
       "    </tr>\n",
       "    <tr>\n",
       "      <th>1</th>\n",
       "      <td>37.0</td>\n",
       "      <td>34.0</td>\n",
       "      <td>29.0</td>\n",
       "      <td>152</td>\n",
       "      <td>1500.0</td>\n",
       "      <td>20000-30000</td>\n",
       "    </tr>\n",
       "    <tr>\n",
       "      <th>2</th>\n",
       "      <td>37.0</td>\n",
       "      <td>34.0</td>\n",
       "      <td>29.0</td>\n",
       "      <td>152</td>\n",
       "      <td>1500.0</td>\n",
       "      <td>20000-30000</td>\n",
       "    </tr>\n",
       "    <tr>\n",
       "      <th>3</th>\n",
       "      <td>37.0</td>\n",
       "      <td>34.0</td>\n",
       "      <td>29.0</td>\n",
       "      <td>152</td>\n",
       "      <td>1500.0</td>\n",
       "      <td>20000-30000</td>\n",
       "    </tr>\n",
       "    <tr>\n",
       "      <th>4</th>\n",
       "      <td>37.0</td>\n",
       "      <td>34.0</td>\n",
       "      <td>29.0</td>\n",
       "      <td>152</td>\n",
       "      <td>1500.0</td>\n",
       "      <td>20000-30000</td>\n",
       "    </tr>\n",
       "    <tr>\n",
       "      <th>...</th>\n",
       "      <td>...</td>\n",
       "      <td>...</td>\n",
       "      <td>...</td>\n",
       "      <td>...</td>\n",
       "      <td>...</td>\n",
       "      <td>...</td>\n",
       "    </tr>\n",
       "    <tr>\n",
       "      <th>2977</th>\n",
       "      <td>22.0</td>\n",
       "      <td>29.0</td>\n",
       "      <td>25.0</td>\n",
       "      <td>260</td>\n",
       "      <td>3500.0</td>\n",
       "      <td>40000-50000</td>\n",
       "    </tr>\n",
       "    <tr>\n",
       "      <th>2978</th>\n",
       "      <td>21.0</td>\n",
       "      <td>26.0</td>\n",
       "      <td>23.0</td>\n",
       "      <td>260</td>\n",
       "      <td>3500.0</td>\n",
       "      <td>40000-50000</td>\n",
       "    </tr>\n",
       "    <tr>\n",
       "      <th>2979</th>\n",
       "      <td>26.0</td>\n",
       "      <td>32.0</td>\n",
       "      <td>28.0</td>\n",
       "      <td>182</td>\n",
       "      <td>2700.0</td>\n",
       "      <td>40000-50000</td>\n",
       "    </tr>\n",
       "    <tr>\n",
       "      <th>2980</th>\n",
       "      <td>21.0</td>\n",
       "      <td>26.0</td>\n",
       "      <td>23.0</td>\n",
       "      <td>260</td>\n",
       "      <td>3500.0</td>\n",
       "      <td>40000-50000</td>\n",
       "    </tr>\n",
       "    <tr>\n",
       "      <th>2981</th>\n",
       "      <td>22.0</td>\n",
       "      <td>29.0</td>\n",
       "      <td>25.0</td>\n",
       "      <td>260</td>\n",
       "      <td>3500.0</td>\n",
       "      <td>40000-50000</td>\n",
       "    </tr>\n",
       "  </tbody>\n",
       "</table>\n",
       "<p>2982 rows × 6 columns</p>\n",
       "</div>"
      ],
      "text/plain": [
       "      City MPG  HWY MPG  Combine MPG  HorsePower  Max Towing        Price\n",
       "0         37.0     34.0         29.0         152      1500.0  20000-30000\n",
       "1         37.0     34.0         29.0         152      1500.0  20000-30000\n",
       "2         37.0     34.0         29.0         152      1500.0  20000-30000\n",
       "3         37.0     34.0         29.0         152      1500.0  20000-30000\n",
       "4         37.0     34.0         29.0         152      1500.0  20000-30000\n",
       "...        ...      ...          ...         ...         ...          ...\n",
       "2977      22.0     29.0         25.0         260      3500.0  40000-50000\n",
       "2978      21.0     26.0         23.0         260      3500.0  40000-50000\n",
       "2979      26.0     32.0         28.0         182      2700.0  40000-50000\n",
       "2980      21.0     26.0         23.0         260      3500.0  40000-50000\n",
       "2981      22.0     29.0         25.0         260      3500.0  40000-50000\n",
       "\n",
       "[2982 rows x 6 columns]"
      ]
     },
     "execution_count": 23,
     "metadata": {},
     "output_type": "execute_result"
    }
   ],
   "source": [
    "df1 = df[df['Price'] == '20000-30000']\n",
    "df2 = df[df['Price'] == '30000-40000']\n",
    "df3 = df[df['Price'] == '40000-50000']\n",
    "\n",
    "sampleNumber = len(df3)\n",
    "df1 = df1.sample(sampleNumber, random_state = 1)\n",
    "df2 = df2.sample(sampleNumber, random_state = 1)\n",
    "df = pd.concat([df1, df2, df3])\n",
    "df.reset_index(drop=True, inplace = True)\n",
    "df"
   ]
  },
  {
   "cell_type": "markdown",
   "metadata": {
    "id": "NnZQY7RWHjeu"
   },
   "source": [
    "*Split data as train/test*"
   ]
  },
  {
   "cell_type": "code",
   "execution_count": 24,
   "metadata": {
    "id": "CzYjQ7m9Hjev"
   },
   "outputs": [],
   "source": [
    "from sklearn.model_selection import train_test_split, cross_val_score\n",
    "X = df.drop(['Price'], axis = 1)\n",
    "y = df['Price'].values\n",
    "\n",
    "# split ratio\n",
    "train_ratio = 0.7\n",
    "test_ratio = 0.3\n",
    "\n",
    "# Split the data, Train/Test. train 70%, test 30%\n",
    "X_train, X_test, y_train, y_test = train_test_split(X, y, test_size=1 - train_ratio, random_state=1)"
   ]
  },
  {
   "cell_type": "markdown",
   "metadata": {
    "id": "LcwoU4rTFT7B"
   },
   "source": [
    "*RandomForest Classifier*"
   ]
  },
  {
   "cell_type": "code",
   "execution_count": 25,
   "metadata": {
    "colab": {
     "base_uri": "https://localhost:8080/",
     "height": 467
    },
    "id": "8iMdWg6alSYk",
    "outputId": "0a6515bd-4fd3-4edd-8412-0111519b882c"
   },
   "outputs": [
    {
     "name": "stdout",
     "output_type": "stream",
     "text": [
      "Total Accuracy: 0.7505030181086519\n"
     ]
    },
    {
     "data": {
      "image/png": "[encoded data removed]",
      "text/plain": [
       "<Figure size 432x288 with 2 Axes>"
      ]
     },
     "metadata": {
      "needs_background": "light"
     },
     "output_type": "display_data"
    }
   ],
   "source": [
    "from sklearn.ensemble import RandomForestClassifier\n",
    "from sklearn.metrics import confusion_matrix, ConfusionMatrixDisplay\n",
    "\n",
    "clf_rf = RandomForestClassifier(random_state=0)\n",
    "clf_rf.fit(X_train, y_train)\n",
    "print('Total Accuracy:', clf_rf.score(X, y))\n",
    "\n",
    "predictions = clf_rf.predict(X)\n",
    "cm = confusion_matrix(y, predictions, labels=clf_rf.classes_)\n",
    "disp = ConfusionMatrixDisplay(confusion_matrix=cm,\n",
    "                              display_labels=clf_rf.classes_)\n",
    "disp.plot()\n",
    "plt.show()\n"
   ]
  },
  {
   "cell_type": "markdown",
   "metadata": {
    "id": "b9CQaKUGFT7C"
   },
   "source": [
    "*RandomForest Classifier Cross-Validation*"
   ]
  },
  {
   "cell_type": "code",
   "execution_count": 26,
   "metadata": {
    "colab": {
     "base_uri": "https://localhost:8080/",
     "height": 489
    },
    "id": "cNhJAEe-sPD5",
    "outputId": "3f90426d-6071-46c7-f0bb-69b99af42ccf"
   },
   "outputs": [
    {
     "name": "stdout",
     "output_type": "stream",
     "text": [
      "[0.74539363 0.74204355 0.75503356 0.76006711 0.75      ]\n"
     ]
    },
    {
     "data": {
      "text/plain": [
       "Text(0.5, 1.0, 'Validation Accuracy of RandomForest')"
      ]
     },
     "execution_count": 26,
     "metadata": {},
     "output_type": "execute_result"
    },
    {
     "data": {
      "image/png": "[encoded data removed]",
      "text/plain": [
       "<Figure size 432x288 with 1 Axes>"
      ]
     },
     "metadata": {
      "needs_background": "light"
     },
     "output_type": "display_data"
    }
   ],
   "source": [
    "scores_rf = cross_val_score(estimator=clf_rf, X=X, y=y, cv = 5)\n",
    "index = np.arange(5) + 0.3\n",
    "print(scores_rf)\n",
    "plt.bar(index, scores_rf)\n",
    "plt.ylabel(\"accuracy\")\n",
    "plt.title('Validation Accuracy of RandomForest')"
   ]
  },
  {
   "cell_type": "markdown",
   "metadata": {
    "id": "kOCHv4Q3FT7D"
   },
   "source": [
    "*Decision Tree Classifier*"
   ]
  },
  {
   "cell_type": "code",
   "execution_count": 27,
   "metadata": {
    "colab": {
     "base_uri": "https://localhost:8080/",
     "height": 467
    },
    "id": "OwzIKXH5ptHh",
    "outputId": "db3e6622-bb9a-4231-a3b2-73b34ed590ce"
   },
   "outputs": [
    {
     "name": "stdout",
     "output_type": "stream",
     "text": [
      "Total Accuracy: 0.7505030181086519\n"
     ]
    },
    {
     "data": {
      "image/png": "[encoded data removed]",
      "text/plain": [
       "<Figure size 432x288 with 2 Axes>"
      ]
     },
     "metadata": {
      "needs_background": "light"
     },
     "output_type": "display_data"
    }
   ],
   "source": [
    "from sklearn.tree import DecisionTreeClassifier\n",
    "\n",
    "clf_dt = DecisionTreeClassifier(random_state=0)\n",
    "clf_dt.fit(X_train, y_train)\n",
    "print('Total Accuracy:', clf_dt.score(X, y))\n",
    "\n",
    "predictions = clf_dt.predict(X)\n",
    "cm = confusion_matrix(y, predictions, labels=clf_dt.classes_)\n",
    "disp = ConfusionMatrixDisplay(confusion_matrix=cm,\n",
    "                              display_labels=clf_dt.classes_)\n",
    "disp.plot()\n",
    "plt.show()"
   ]
  },
  {
   "cell_type": "markdown",
   "metadata": {
    "id": "rO3FgDJGFT7F"
   },
   "source": [
    "*Decision Tree Classifier Cross-Validation*"
   ]
  },
  {
   "cell_type": "code",
   "execution_count": 28,
   "metadata": {
    "colab": {
     "base_uri": "https://localhost:8080/",
     "height": 489
    },
    "id": "eCCoHIUVseJ-",
    "outputId": "4444f936-9480-46bc-b037-ef91ec6a09da"
   },
   "outputs": [
    {
     "name": "stdout",
     "output_type": "stream",
     "text": [
      "[0.74539363 0.74204355 0.75503356 0.76006711 0.75      ]\n"
     ]
    },
    {
     "data": {
      "text/plain": [
       "Text(0.5, 1.0, 'Validation Accuracy of Decision Tree')"
      ]
     },
     "execution_count": 28,
     "metadata": {},
     "output_type": "execute_result"
    },
    {
     "data": {
      "image/png": "[encoded data removed]",
      "text/plain": [
       "<Figure size 432x288 with 1 Axes>"
      ]
     },
     "metadata": {
      "needs_background": "light"
     },
     "output_type": "display_data"
    }
   ],
   "source": [
    "scores_dt = cross_val_score(estimator=clf_dt, X=X, y=y, cv = 5)\n",
    "index = np.arange(5) + 0.3\n",
    "print(scores_dt)\n",
    "plt.bar(index, scores_dt)\n",
    "plt.ylabel(\"accuracy\")\n",
    "plt.title('Validation Accuracy of Decision Tree')"
   ]
  },
  {
   "cell_type": "markdown",
   "metadata": {
    "id": "VKOUIMSjFT7L"
   },
   "source": [
    "*Support Vector Machine Classifier*"
   ]
  },
  {
   "cell_type": "code",
   "execution_count": 29,
   "metadata": {
    "colab": {
     "base_uri": "https://localhost:8080/",
     "height": 467
    },
    "id": "AACbIFu5rsUZ",
    "outputId": "610b1224-589e-48cc-8f32-16e0141f326b"
   },
   "outputs": [
    {
     "name": "stdout",
     "output_type": "stream",
     "text": [
      "Test Accuracy: 0.7505030181086519\n"
     ]
    },
    {
     "data": {
      "image/png": "[encoded data removed]",
      "text/plain": [
       "<Figure size 432x288 with 2 Axes>"
      ]
     },
     "metadata": {
      "needs_background": "light"
     },
     "output_type": "display_data"
    }
   ],
   "source": [
    "from sklearn.svm import SVC\n",
    "\n",
    "clf_svm = SVC()\n",
    "clf_svm.fit(X_train, y_train)\n",
    "print('Test Accuracy:', clf_svm.score(X, y))\n",
    "\n",
    "predictions = clf_svm.predict(X)\n",
    "cm = confusion_matrix(y, predictions, labels=clf_svm.classes_)\n",
    "disp = ConfusionMatrixDisplay(confusion_matrix=cm,\n",
    "                              display_labels=clf_svm.classes_)\n",
    "disp.plot()\n",
    "plt.show()"
   ]
  },
  {
   "cell_type": "markdown",
   "metadata": {
    "id": "Vn525w61FT7N"
   },
   "source": [
    "*SVM Cross-Validation*"
   ]
  },
  {
   "cell_type": "code",
   "execution_count": 30,
   "metadata": {
    "colab": {
     "base_uri": "https://localhost:8080/",
     "height": 489
    },
    "id": "FRdrZo1FtzcO",
    "outputId": "b9d22f4e-afb5-495b-c481-cd3e6f58bd04"
   },
   "outputs": [
    {
     "name": "stdout",
     "output_type": "stream",
     "text": [
      "[0.74539363 0.74204355 0.75503356 0.76006711 0.75      ]\n"
     ]
    },
    {
     "data": {
      "text/plain": [
       "Text(0.5, 1.0, 'Validation Accuracy of SVM')"
      ]
     },
     "execution_count": 30,
     "metadata": {},
     "output_type": "execute_result"
    },
    {
     "data": {
      "image/png": "[encoded data removed]",
      "text/plain": [
       "<Figure size 432x288 with 1 Axes>"
      ]
     },
     "metadata": {
      "needs_background": "light"
     },
     "output_type": "display_data"
    }
   ],
   "source": [
    "scores_svm = cross_val_score(estimator=clf_svm, X=X, y=y, cv = 5)\n",
    "index = np.arange(5) + 0.3\n",
    "print(scores_svm)\n",
    "plt.bar(index, scores_svm)\n",
    "plt.ylabel(\"accuracy\")\n",
    "plt.title('Validation Accuracy of SVM')"
   ]
  },
  {
   "cell_type": "markdown",
   "metadata": {
    "id": "uL--qWPuFT7N"
   },
   "source": [
    "*Predict using RandomForst Classifier*"
   ]
  },
  {
   "cell_type": "code",
   "execution_count": 31,
   "metadata": {
    "colab": {
     "base_uri": "https://localhost:8080/",
     "height": 423
    },
    "id": "H6RAqaWfuK5J",
    "outputId": "a16cfdbc-bc3c-4027-ed0f-dc9007f8178f"
   },
   "outputs": [
    {
     "data": {
      "text/html": [
       "<div>\n",
       "<style scoped>\n",
       "    .dataframe tbody tr th:only-of-type {\n",
       "        vertical-align: middle;\n",
       "    }\n",
       "\n",
       "    .dataframe tbody tr th {\n",
       "        vertical-align: top;\n",
       "    }\n",
       "\n",
       "    .dataframe thead th {\n",
       "        text-align: right;\n",
       "    }\n",
       "</style>\n",
       "<table border=\"1\" class=\"dataframe\">\n",
       "  <thead>\n",
       "    <tr style=\"text-align: right;\">\n",
       "      <th></th>\n",
       "      <th>City MPG</th>\n",
       "      <th>HWY MPG</th>\n",
       "      <th>Combine MPG</th>\n",
       "      <th>HorsePower</th>\n",
       "      <th>Max Towing</th>\n",
       "      <th>Price</th>\n",
       "      <th>Pred</th>\n",
       "    </tr>\n",
       "  </thead>\n",
       "  <tbody>\n",
       "    <tr>\n",
       "      <th>0</th>\n",
       "      <td>37.0</td>\n",
       "      <td>34.0</td>\n",
       "      <td>29.0</td>\n",
       "      <td>152</td>\n",
       "      <td>1500.0</td>\n",
       "      <td>20000-30000</td>\n",
       "      <td>20000-30000</td>\n",
       "    </tr>\n",
       "    <tr>\n",
       "      <th>1</th>\n",
       "      <td>37.0</td>\n",
       "      <td>34.0</td>\n",
       "      <td>29.0</td>\n",
       "      <td>152</td>\n",
       "      <td>1500.0</td>\n",
       "      <td>20000-30000</td>\n",
       "      <td>20000-30000</td>\n",
       "    </tr>\n",
       "    <tr>\n",
       "      <th>2</th>\n",
       "      <td>37.0</td>\n",
       "      <td>34.0</td>\n",
       "      <td>29.0</td>\n",
       "      <td>152</td>\n",
       "      <td>1500.0</td>\n",
       "      <td>20000-30000</td>\n",
       "      <td>20000-30000</td>\n",
       "    </tr>\n",
       "    <tr>\n",
       "      <th>3</th>\n",
       "      <td>37.0</td>\n",
       "      <td>34.0</td>\n",
       "      <td>29.0</td>\n",
       "      <td>152</td>\n",
       "      <td>1500.0</td>\n",
       "      <td>20000-30000</td>\n",
       "      <td>20000-30000</td>\n",
       "    </tr>\n",
       "    <tr>\n",
       "      <th>4</th>\n",
       "      <td>37.0</td>\n",
       "      <td>34.0</td>\n",
       "      <td>29.0</td>\n",
       "      <td>152</td>\n",
       "      <td>1500.0</td>\n",
       "      <td>20000-30000</td>\n",
       "      <td>20000-30000</td>\n",
       "    </tr>\n",
       "    <tr>\n",
       "      <th>...</th>\n",
       "      <td>...</td>\n",
       "      <td>...</td>\n",
       "      <td>...</td>\n",
       "      <td>...</td>\n",
       "      <td>...</td>\n",
       "      <td>...</td>\n",
       "      <td>...</td>\n",
       "    </tr>\n",
       "    <tr>\n",
       "      <th>2977</th>\n",
       "      <td>22.0</td>\n",
       "      <td>29.0</td>\n",
       "      <td>25.0</td>\n",
       "      <td>260</td>\n",
       "      <td>3500.0</td>\n",
       "      <td>40000-50000</td>\n",
       "      <td>40000-50000</td>\n",
       "    </tr>\n",
       "    <tr>\n",
       "      <th>2978</th>\n",
       "      <td>21.0</td>\n",
       "      <td>26.0</td>\n",
       "      <td>23.0</td>\n",
       "      <td>260</td>\n",
       "      <td>3500.0</td>\n",
       "      <td>40000-50000</td>\n",
       "      <td>40000-50000</td>\n",
       "    </tr>\n",
       "    <tr>\n",
       "      <th>2979</th>\n",
       "      <td>26.0</td>\n",
       "      <td>32.0</td>\n",
       "      <td>28.0</td>\n",
       "      <td>182</td>\n",
       "      <td>2700.0</td>\n",
       "      <td>40000-50000</td>\n",
       "      <td>30000-40000</td>\n",
       "    </tr>\n",
       "    <tr>\n",
       "      <th>2980</th>\n",
       "      <td>21.0</td>\n",
       "      <td>26.0</td>\n",
       "      <td>23.0</td>\n",
       "      <td>260</td>\n",
       "      <td>3500.0</td>\n",
       "      <td>40000-50000</td>\n",
       "      <td>40000-50000</td>\n",
       "    </tr>\n",
       "    <tr>\n",
       "      <th>2981</th>\n",
       "      <td>22.0</td>\n",
       "      <td>29.0</td>\n",
       "      <td>25.0</td>\n",
       "      <td>260</td>\n",
       "      <td>3500.0</td>\n",
       "      <td>40000-50000</td>\n",
       "      <td>40000-50000</td>\n",
       "    </tr>\n",
       "  </tbody>\n",
       "</table>\n",
       "<p>2982 rows × 7 columns</p>\n",
       "</div>"
      ],
      "text/plain": [
       "      City MPG  HWY MPG  Combine MPG  HorsePower  Max Towing        Price  \\\n",
       "0         37.0     34.0         29.0         152      1500.0  20000-30000   \n",
       "1         37.0     34.0         29.0         152      1500.0  20000-30000   \n",
       "2         37.0     34.0         29.0         152      1500.0  20000-30000   \n",
       "3         37.0     34.0         29.0         152      1500.0  20000-30000   \n",
       "4         37.0     34.0         29.0         152      1500.0  20000-30000   \n",
       "...        ...      ...          ...         ...         ...          ...   \n",
       "2977      22.0     29.0         25.0         260      3500.0  40000-50000   \n",
       "2978      21.0     26.0         23.0         260      3500.0  40000-50000   \n",
       "2979      26.0     32.0         28.0         182      2700.0  40000-50000   \n",
       "2980      21.0     26.0         23.0         260      3500.0  40000-50000   \n",
       "2981      22.0     29.0         25.0         260      3500.0  40000-50000   \n",
       "\n",
       "             Pred  \n",
       "0     20000-30000  \n",
       "1     20000-30000  \n",
       "2     20000-30000  \n",
       "3     20000-30000  \n",
       "4     20000-30000  \n",
       "...           ...  \n",
       "2977  40000-50000  \n",
       "2978  40000-50000  \n",
       "2979  30000-40000  \n",
       "2980  40000-50000  \n",
       "2981  40000-50000  \n",
       "\n",
       "[2982 rows x 7 columns]"
      ]
     },
     "execution_count": 31,
     "metadata": {},
     "output_type": "execute_result"
    }
   ],
   "source": [
    "pred_range = clf_rf.predict(X)\n",
    "df['Pred'] = pred_range\n",
    "df"
   ]
  },
  {
   "cell_type": "markdown",
   "metadata": {
    "id": "Zw2mpKZmHjfJ"
   },
   "source": [
    "# Summary\n",
    "\n",
    "In this project, we scraped the car price range with their features. Then predict the car price range using classification models such as RandomForest, Decision Tree, SVM. We got 75% accuracies for all models and predict the price ranges using RandomForest model. The car features are sam for most of cars and has different price range with same features. It is the main reason we got little low accuracy. If we use more other features, we can increase the classification accuracies."
   ]
  },
  {
   "cell_type": "code",
   "execution_count": null,
   "metadata": {},
   "outputs": [],
   "source": []
  }
 ],
 "metadata": {
  "colab": {
   "provenance": []
  },
  "kernelspec": {
   "display_name": "Python 3 (ipykernel)",
   "language": "python",
   "name": "python3"
  },
  "language_info": {
   "codemirror_mode": {
    "name": "ipython",
    "version": 3
   },
   "file_extension": ".py",
   "mimetype": "text/x-python",
   "name": "python",
   "nbconvert_exporter": "python",
   "pygments_lexer": "ipython3",
   "version": "3.9.12"
  },
  "vscode": {
   "interpreter": {
    "hash": "d2d1bdb125cfb411ac6a01d7ec20f76421b80db063c8da99846ac1bb701253cb"
   }
  }
 },
 "nbformat": 4,
 "nbformat_minor": 1
}
